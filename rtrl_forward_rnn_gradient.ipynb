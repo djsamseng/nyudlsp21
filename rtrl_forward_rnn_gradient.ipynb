{
 "cells": [
  {
   "cell_type": "code",
   "execution_count": 4,
   "id": "bcc7a3a0",
   "metadata": {},
   "outputs": [],
   "source": [
    "import torch\n",
    "import ipycanvas\n",
    "import numpy as np\n"
   ]
  },
  {
   "cell_type": "code",
   "execution_count": 5,
   "id": "6231e77f",
   "metadata": {},
   "outputs": [
    {
     "name": "stdout",
     "output_type": "stream",
     "text": [
      "tensor([ 0.7943, -0.3047]) tensor([ 0.2122, -0.0638]) tensor([ 0.7943, -0.3047], grad_fn=<MulBackward0>) tensor([ 0.2122, -0.0638], grad_fn=<MulBackward0>)\n"
     ]
    }
   ],
   "source": [
    "def compute(x, h1, h2, gt1_w1, gt1_w2, w1, w2):\n",
    "    # Single recursive node\n",
    "    y = w1 * x + w2 * h1\n",
    "    # dh1/dh2 * dh2/dw + dh1/dw\n",
    "    gt_w1 = w2 * gt1_w1 + x\n",
    "    gt_w2 = w2 * gt1_w2 + h1\n",
    "    return y, gt_w1, gt_w2\n",
    "\n",
    "\n",
    "w1 = torch.rand(2, requires_grad=True)\n",
    "w2 = torch.rand(2, requires_grad=True)\n",
    "h0 = 0\n",
    "x1 = torch.rand(2, requires_grad=True)\n",
    "h1, dh_w1, dh_w2 = compute(x1, h0, 0, 0, 0, w1, w2)\n",
    "#assert h1 == 1\n",
    "\n",
    "x2 = torch.rand(2, requires_grad=True)\n",
    "h2, dh_w1, dh_w2 = compute(x2, h1, h0, dh_w1, dh_w2, w1, w2)\n",
    "#assert h2 == (1.5 + 0.5)\n",
    "\n",
    "x3 = torch.rand(2, requires_grad=True)\n",
    "h3, dh_w1, dh_w2 = compute(x3, h2, h1, dh_w1, dh_w2, w1, w2)\n",
    "\n",
    "y = torch.rand(2)\n",
    "loss = torch.nn.MSELoss()(h3, y)\n",
    "loss.backward()\n",
    "\n",
    "error_grad = 2 * (h3 - y) / 2\n",
    "# YAY! gt1_w1 is correct! With gt_w1 = w2 * gt1_w1 + x\n",
    "# YAY! gt1_w2 is correct! With gt_w2 = w2 * gt1_w2 + h1\n",
    "print(w1.grad, w2.grad, dh_w1*error_grad, dh_w2*error_grad)"
   ]
  },
  {
   "cell_type": "code",
   "execution_count": 89,
   "id": "46bd3a60",
   "metadata": {},
   "outputs": [],
   "source": [
    "\n",
    "\n",
    "c = ipycanvas.Canvas(width=800, height=200)\n",
    "\n",
    "def draw_node(c, x, y):\n",
    "    c.stroke_style = \"red\"\n",
    "    c.stroke_circle(x, y, 40)\n",
    "\n",
    "def draw_recurrent_node(c, x=60, y=100):\n",
    "\n",
    "    draw_node(c, x, y)\n",
    "\n",
    "    c.begin_path()\n",
    "    y_arc = y - 30\n",
    "    x0 = x+20\n",
    "    x1 = x-20\n",
    "    c.move_to(x0, y_arc)\n",
    "    c.quadratic_curve_to(x0 + 5, y_arc-50, x0 + (x1 - x0)//2, y_arc - 50)\n",
    "    c.quadratic_curve_to(x1 - 5, y_arc-50, x1, y_arc)\n",
    "    c.stroke()\n",
    "    c.begin_path()\n",
    "    arrow_width = 5\n",
    "    c.line_to(x1-arrow_width, y_arc)\n",
    "    c.line_to(x1, y_arc+arrow_width)\n",
    "    c.line_to(x1+arrow_width, y_arc)\n",
    "    c.fill()\n",
    "    \n",
    "def draw_arrow(c, x0, y0, x1, y1, arrow_width=5, direction=\"right\"):\n",
    "    c.begin_path()\n",
    "    c.move_to(x0, y0)\n",
    "    c.line_to(x1, y1)\n",
    "    c.stroke()\n",
    "    c.begin_path()\n",
    "    if direction == \"right\":\n",
    "        c.line_to(x1-arrow_width, y1-arrow_width)\n",
    "        c.line_to(x1-arrow_width, y1+arrow_width)\n",
    "        c.line_to(x1, y1)\n",
    "    elif direction == \"left\":\n",
    "        c.line_to(x1+arrow_width, y1-arrow_width)\n",
    "        c.line_to(x1+arrow_width, y1+arrow_width)\n",
    "        c.line_to(x1, y1)\n",
    "    else:\n",
    "        c.line_to(x1+arrow_width, y1+arrow_width)\n",
    "        c.line_to(x1-arrow_width, y1+arrow_width)\n",
    "        c.line_to(x1, y1)\n",
    "    c.fill()\n"
   ]
  },
  {
   "cell_type": "code",
   "execution_count": 90,
   "id": "d4e73569",
   "metadata": {},
   "outputs": [
    {
     "data": {
      "application/vnd.jupyter.widget-view+json": {
       "model_id": "dba066f455384ed7b7f1dd9dea9c49e5",
       "version_major": 2,
       "version_minor": 0
      },
      "text/plain": [
       "Canvas(height=300, width=800)"
      ]
     },
     "metadata": {},
     "output_type": "display_data"
    }
   ],
   "source": [
    "c = ipycanvas.Canvas(width=800, height=300)\n",
    "\n",
    "draw_recurrent_node(c, x=60, y=100)\n",
    "draw_recurrent_node(c, x=200, y= 100)\n",
    "draw_arrow(c, 100, 100, 160, 100)\n",
    "draw_arrow(c, 160, 110, 100, 110, direction=\"left\")\n",
    "draw_arrow(c, x0=60, y0=180, x1=60, y1=140, direction=\"up\")\n",
    "draw_arrow(c, x0=200, y0=180, x1=200, y1=140, direction=\"up\")\n",
    "\n",
    "draw_arrow(c, x0=60, y0=180, x1=190, y1=140, direction=\"up\")\n",
    "draw_arrow(c, x0=200, y0=180, x1=70, y1=140, direction=\"up\")\n",
    "\n",
    "draw_node(c, x=60, y=220)\n",
    "draw_node(c, x=200, y=220)\n",
    "\n",
    "c.font = '24px serif'\n",
    "c.fill_text(\"2\", 55, 230)\n",
    "c.fill_text(\"0\", 55, 110)\n",
    "c.fill_text(\"3\", 195, 230)\n",
    "c.fill_text(\"1\", 195, 110)\n",
    "    \n",
    "c"
   ]
  },
  {
   "cell_type": "code",
   "execution_count": 92,
   "id": "380b196d",
   "metadata": {},
   "outputs": [
    {
     "name": "stdout",
     "output_type": "stream",
     "text": [
      "tensor(0.0969, grad_fn=<MseLossBackward0>) tensor([[-0.2021],\n",
      "        [ 0.3911]], grad_fn=<DivBackward0>)\n",
      "tensor([[-0.0304, -0.0329, -0.0031, -0.0189],\n",
      "        [ 0.0416,  0.0453,  0.0060,  0.0279],\n",
      "        [ 0.0000,  0.0000,  0.0000,  0.0000],\n",
      "        [ 0.0000,  0.0000,  0.0000,  0.0000]], grad_fn=<SumBackward1>)\n",
      "tensor([[-0.0304, -0.0329, -0.0031, -0.0189],\n",
      "        [ 0.0416,  0.0453,  0.0060,  0.0279],\n",
      "        [ 0.0000,  0.0000,  0.0000,  0.0000],\n",
      "        [ 0.0000,  0.0000,  0.0000,  0.0000]])\n"
     ]
    }
   ],
   "source": [
    "def calc_next_G_fc_loop(G, W, inputs, hiddens):\n",
    "    G_new = torch.zeros_like(G, requires_grad=False)\n",
    "    for k in range(G.shape[0]):\n",
    "        for i in range(G.shape[1]):\n",
    "            for j in range(G.shape[2]):\n",
    "                # p should just belong to the hiddens 0,1\n",
    "                for p in range(G.shape[0]):\n",
    "                    G_new[k,i,j] += W[k,p] * G[p,i,j]\n",
    "                if i == k:\n",
    "                    # hiddens = 0,1\n",
    "                    if j >= hiddens.shape[0]:\n",
    "                        G_new[k,i,j] += inputs[j-hiddens.shape[0], 0]\n",
    "                    else:\n",
    "                        G_new[k,i,j] += hiddens[j,0]\n",
    "    \n",
    "    return G_new\n",
    "\n",
    "def calc_next_G_fc(G, W, inputs, hiddens):\n",
    "    G_new = torch.zeros_like(G, requires_grad=False)\n",
    "    for k in range(G.shape[0]):\n",
    "        for i in range(G.shape[1]):\n",
    "            G_new[k,i:i+1,:] += torch.mm(W[k:k+1,0:G.shape[0]], G[:,i,:])\n",
    "        \n",
    "        i = k\n",
    "        for j in range(G.shape[2]):\n",
    "            if j >= hiddens.shape[0]:\n",
    "                G_new[k,i,j] += inputs[j-hiddens.shape[0], 0]\n",
    "            else:\n",
    "                G_new[k,i,j] += hiddens[j,0]\n",
    "\n",
    "    return G_new\n",
    "\n",
    "def forward_grad_2hidden_calc_activation(hiddens, G):\n",
    "    new_hiddens = torch.sigmoid(hiddens)\n",
    "    sigmoid_deriv = torch.sigmoid(hiddens) * (1 - torch.sigmoid(hiddens))\n",
    "    for k in range(G.shape[0]):\n",
    "        G[k,:,:] *= sigmoid_deriv[k]\n",
    "    return new_hiddens, G\n",
    "\n",
    "def forward_grad_2hidden_calc_fc(G, W, inputs, hiddens):\n",
    "    z = torch.cat((hiddens, inputs))\n",
    "    new_hiddens = torch.mm(W[:hiddens.shape[0]], z)\n",
    "    \n",
    "    G = calc_next_G_fc(G, W, inputs, hiddens)\n",
    "    \n",
    "    new_hiddens, G = forward_grad_2hidden_calc_activation(new_hiddens, G)\n",
    "    \n",
    "    return (new_hiddens, G)\n",
    "    \n",
    "\n",
    "def forward_grad_2hidden_fc():\n",
    "    num_hidden = 2\n",
    "    num_input = 2\n",
    "    num_nodes = num_hidden + num_input\n",
    "    # Should G be k=num_hidden, i=num_nodes, j=num_hidden?\n",
    "    # Gij^k\n",
    "    G = torch.zeros((num_hidden, num_nodes, num_nodes), requires_grad=True)\n",
    "    W = torch.rand((num_nodes, num_nodes), requires_grad=True)\n",
    "    num_itr = 10\n",
    "    hidden = torch.zeros((num_hidden,1), requires_grad=True)\n",
    "    \n",
    "    for itr in range(num_itr):\n",
    "        inputs = torch.rand((num_input,1))        \n",
    "        hidden, G = forward_grad_2hidden_calc_fc(G, W, inputs, hidden)\n",
    "        \n",
    "    y = torch.rand((2,1))\n",
    "    error = torch.nn.MSELoss()(hidden,y)\n",
    "    error_grad = 2 * (hidden - y) / 2\n",
    "    print(error, error_grad)\n",
    "    error.backward()\n",
    "    G_grad = G\n",
    "    G_grad[0,:,:] *= error_grad[0]\n",
    "    G_grad[1,:,:] *= error_grad[1]\n",
    "    print(G_grad.sum(dim=0))\n",
    "    print(W.grad)\n",
    "    torch.testing.assert_allclose(G_grad.sum(dim=0), W.grad)\n",
    "    \n",
    "\n",
    "    \n",
    "    \n",
    "forward_grad_2hidden_fc()"
   ]
  },
  {
   "cell_type": "code",
   "execution_count": 77,
   "id": "64c7a725",
   "metadata": {},
   "outputs": [
    {
     "data": {
      "application/vnd.jupyter.widget-view+json": {
       "model_id": "98abd33480c84512867da87dbafac1ec",
       "version_major": 2,
       "version_minor": 0
      },
      "text/plain": [
       "Canvas(height=300, width=800)"
      ]
     },
     "metadata": {},
     "output_type": "display_data"
    }
   ],
   "source": [
    "c = ipycanvas.Canvas(width=800, height=300)\n",
    "\n",
    "draw_recurrent_node(c, x=60, y=100)\n",
    "draw_recurrent_node(c, x=200, y= 100)\n",
    "draw_arrow(c, 100, 100, 160, 100)\n",
    "draw_arrow(c, x0=60, y0=180, x1=60, y1=140, direction=\"up\")\n",
    "draw_arrow(c, x0=200, y0=180, x1=200, y1=140, direction=\"up\")\n",
    "\n",
    "\n",
    "draw_node(c, x=60, y=220)\n",
    "draw_node(c, x=200, y=220)\n",
    "\n",
    "c.font = '24px serif'\n",
    "c.fill_text(\"2\", 55, 230)\n",
    "c.fill_text(\"0\", 55, 110)\n",
    "c.fill_text(\"3\", 195, 230)\n",
    "c.fill_text(\"1\", 195, 110)\n",
    "    \n",
    "c"
   ]
  },
  {
   "cell_type": "code",
   "execution_count": null,
   "id": "6ef5f4eb",
   "metadata": {},
   "outputs": [],
   "source": []
  }
 ],
 "metadata": {
  "kernelspec": {
   "display_name": "Python 3 (ipykernel)",
   "language": "python",
   "name": "python3"
  },
  "language_info": {
   "codemirror_mode": {
    "name": "ipython",
    "version": 3
   },
   "file_extension": ".py",
   "mimetype": "text/x-python",
   "name": "python",
   "nbconvert_exporter": "python",
   "pygments_lexer": "ipython3",
   "version": "3.8.12"
  }
 },
 "nbformat": 4,
 "nbformat_minor": 5
}
